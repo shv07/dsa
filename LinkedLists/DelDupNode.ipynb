{
 "cells": [
  {
   "cell_type": "code",
   "execution_count": 36,
   "metadata": {},
   "outputs": [],
   "source": [
    "class node:\n",
    "    def __init__(self, data = None, p = None, n = None):\n",
    "        self.data = data\n",
    "        self.next = n\n",
    "        self.prev = p\n",
    "class dLL:\n",
    "    def __init__(self, front = None, rear = None):\n",
    "        self.front = front\n",
    "        self.rear = rear\n",
    "    def display(self):\n",
    "        tmp = self.front\n",
    "        while tmp!=None:\n",
    "            print(tmp.data, '<->' , end = ' ')\n",
    "            tmp = tmp.next\n",
    "        print('None')\n",
    "    def push(self,x):\n",
    "        new = node(x)\n",
    "        if self.front == None:\n",
    "            self.front = new\n",
    "            self.rear = new\n",
    "        else:\n",
    "            new.prev = self.rear\n",
    "            new.next = None\n",
    "            self.rear.next = new\n",
    "            self.rear = new"
   ]
  },
  {
   "cell_type": "code",
   "execution_count": 65,
   "metadata": {},
   "outputs": [],
   "source": [
    "def delDup(dll):\n",
    "    tmp = dll.front\n",
    "    d = {}\n",
    "    while tmp!=None:\n",
    "        if tmp.data in d:\n",
    "            #print(tmp.data)\n",
    "            if tmp.next == None: #last node\n",
    "                tmp = tmp.prev\n",
    "                del(tmp.next)\n",
    "                tmp.next = None\n",
    "                break\n",
    "            else:\n",
    "                tmp.prev.next = tmp.next\n",
    "                tmp.next.prev = tmp.prev\n",
    "                tmp1 = tmp\n",
    "                tmp = tmp.next\n",
    "                del(tmp1)\n",
    "            dll.display()\n",
    "        else:\n",
    "            d[tmp.data] = 1\n",
    "            tmp = tmp.next\n",
    "            if tmp == None:\n",
    "                break"
   ]
  },
  {
   "cell_type": "code",
   "execution_count": 67,
   "metadata": {},
   "outputs": [],
   "source": [
    "tree = dLL()"
   ]
  },
  {
   "cell_type": "code",
   "execution_count": 68,
   "metadata": {},
   "outputs": [],
   "source": [
    "for i in range(10):\n",
    "    tree.push(i)\n"
   ]
  },
  {
   "cell_type": "code",
   "execution_count": 69,
   "metadata": {},
   "outputs": [
    {
     "name": "stdout",
     "output_type": "stream",
     "text": [
      "0 <-> 1 <-> 2 <-> 3 <-> 4 <-> 5 <-> 6 <-> 7 <-> 8 <-> 9 <-> None\n"
     ]
    }
   ],
   "source": [
    "tree.display()"
   ]
  },
  {
   "cell_type": "code",
   "execution_count": 70,
   "metadata": {},
   "outputs": [],
   "source": [
    "for i in [1,1,1,2,2,10]:\n",
    "    tree.push(i)"
   ]
  },
  {
   "cell_type": "code",
   "execution_count": 71,
   "metadata": {},
   "outputs": [
    {
     "name": "stdout",
     "output_type": "stream",
     "text": [
      "0 <-> 1 <-> 2 <-> 3 <-> 4 <-> 5 <-> 6 <-> 7 <-> 8 <-> 9 <-> 1 <-> 1 <-> 1 <-> 2 <-> 2 <-> 10 <-> None\n"
     ]
    }
   ],
   "source": [
    "tree.display()"
   ]
  },
  {
   "cell_type": "code",
   "execution_count": 66,
   "metadata": {},
   "outputs": [],
   "source": [
    "del(tree)"
   ]
  },
  {
   "cell_type": "code",
   "execution_count": 72,
   "metadata": {},
   "outputs": [
    {
     "name": "stdout",
     "output_type": "stream",
     "text": [
      "0 <-> 1 <-> 2 <-> 3 <-> 4 <-> 5 <-> 6 <-> 7 <-> 8 <-> 9 <-> 1 <-> 1 <-> 2 <-> 2 <-> 10 <-> None\n",
      "0 <-> 1 <-> 2 <-> 3 <-> 4 <-> 5 <-> 6 <-> 7 <-> 8 <-> 9 <-> 1 <-> 2 <-> 2 <-> 10 <-> None\n",
      "0 <-> 1 <-> 2 <-> 3 <-> 4 <-> 5 <-> 6 <-> 7 <-> 8 <-> 9 <-> 2 <-> 2 <-> 10 <-> None\n",
      "0 <-> 1 <-> 2 <-> 3 <-> 4 <-> 5 <-> 6 <-> 7 <-> 8 <-> 9 <-> 2 <-> 10 <-> None\n",
      "0 <-> 1 <-> 2 <-> 3 <-> 4 <-> 5 <-> 6 <-> 7 <-> 8 <-> 9 <-> 10 <-> None\n"
     ]
    }
   ],
   "source": [
    "delDup(tree)"
   ]
  },
  {
   "cell_type": "code",
   "execution_count": null,
   "metadata": {},
   "outputs": [],
   "source": []
  }
 ],
 "metadata": {
  "kernelspec": {
   "display_name": "Python 3",
   "language": "python",
   "name": "python3"
  },
  "language_info": {
   "codemirror_mode": {
    "name": "ipython",
    "version": 3
   },
   "file_extension": ".py",
   "mimetype": "text/x-python",
   "name": "python",
   "nbconvert_exporter": "python",
   "pygments_lexer": "ipython3",
   "version": "3.6.7"
  }
 },
 "nbformat": 4,
 "nbformat_minor": 2
}
