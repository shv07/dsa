{
 "cells": [
  {
   "cell_type": "markdown",
   "metadata": {},
   "source": [
    "## Implementing a stack to get push, pop, getMin all in O(1) using min-stack concept"
   ]
  },
  {
   "cell_type": "code",
   "execution_count": 92,
   "metadata": {},
   "outputs": [],
   "source": [
    "class node:\n",
    "    def __init__(self, x=None):\n",
    "        self.data = x\n",
    "        self.next = None\n",
    "\n",
    "class MinStack:\n",
    "    def __init__(self):\n",
    "        \"\"\"\n",
    "        initialize your data structure here.\n",
    "        \"\"\"\n",
    "        self.t = None\n",
    "        self.topM = None\n",
    "    def push(self, x: int) -> None:\n",
    "        newN = node(x)\n",
    "        newN.next = self.t\n",
    "        self.t = newN\n",
    "        #del(newN)\n",
    "        if self.topM!=None:\n",
    "            if x<self.topM.data:\n",
    "                n = node(x)\n",
    "                n.next = self.topM\n",
    "                self.topM = n\n",
    "                #del(n)\n",
    "        else:\n",
    "            newN = node(x)\n",
    "            newN.next = self.topM\n",
    "            self.topM = newN\n",
    "            #del(newN)\n",
    "    def pop(self) -> None:\n",
    "        if self.t==None:\n",
    "            pass\n",
    "        elif self.t.next==None:\n",
    "            tmp = self.t\n",
    "            del(self.t)\n",
    "            \n",
    "        else:\n",
    "            tmp = self.t\n",
    "            self.t = self.t.next\n",
    "            del(tmp)\n",
    "        n = self.t.data\n",
    "        if n == self.topM.data:\n",
    "            if self.topM.next == None:\n",
    "                del(self.topM)\n",
    "            else:\n",
    "                tmp = self.topM\n",
    "                self.topM = self.topM.next\n",
    "                del(tmp)\n",
    "    def top(self) -> int:\n",
    "        if self.t == None:\n",
    "            return \n",
    "        return self.t.data\n",
    "    def getMin(self) -> int:\n",
    "        if self.topM==None:\n",
    "            return\n",
    "        return self.topM.data\n",
    "    def prnt(self):\n",
    "        tmp = self.t\n",
    "        print(\"**************************\")\n",
    "        while(tmp!=None):\n",
    "            print(tmp.data)\n",
    "            tmp = tmp.next\n",
    "        del(tmp)\n",
    "        print(\"**************************\")"
   ]
  },
  {
   "cell_type": "code",
   "execution_count": 93,
   "metadata": {},
   "outputs": [
    {
     "name": "stdout",
     "output_type": "stream",
     "text": [
      "**************************\n",
      "**************************\n"
     ]
    }
   ],
   "source": [
    "obj = MinStack()\n",
    "obj.prnt()"
   ]
  },
  {
   "cell_type": "code",
   "execution_count": 94,
   "metadata": {},
   "outputs": [
    {
     "name": "stdout",
     "output_type": "stream",
     "text": [
      "**************************\n",
      "5\n",
      "**************************\n"
     ]
    }
   ],
   "source": [
    "obj.push(5)\n",
    "obj.prnt()"
   ]
  },
  {
   "cell_type": "code",
   "execution_count": 95,
   "metadata": {},
   "outputs": [
    {
     "data": {
      "text/plain": [
       "5"
      ]
     },
     "execution_count": 95,
     "metadata": {},
     "output_type": "execute_result"
    }
   ],
   "source": [
    "obj.getMin()"
   ]
  },
  {
   "cell_type": "code",
   "execution_count": 96,
   "metadata": {},
   "outputs": [
    {
     "name": "stdout",
     "output_type": "stream",
     "text": [
      "**************************\n",
      "10\n",
      "5\n",
      "**************************\n",
      "**************************\n",
      "1\n",
      "10\n",
      "5\n",
      "**************************\n",
      "**************************\n",
      "15\n",
      "1\n",
      "10\n",
      "5\n",
      "**************************\n",
      "**************************\n",
      "3\n",
      "15\n",
      "1\n",
      "10\n",
      "5\n",
      "**************************\n",
      "**************************\n",
      "15\n",
      "1\n",
      "10\n",
      "5\n",
      "**************************\n",
      "**************************\n",
      "15\n",
      "1\n",
      "10\n",
      "5\n",
      "**************************\n",
      "**************************\n",
      "1\n",
      "10\n",
      "5\n",
      "**************************\n"
     ]
    },
    {
     "data": {
      "text/plain": [
       "5"
      ]
     },
     "execution_count": 96,
     "metadata": {},
     "output_type": "execute_result"
    }
   ],
   "source": [
    "obj.push(10)\n",
    "obj.prnt()\n",
    "obj.push(1)\n",
    "obj.prnt()\n",
    "obj.push(15)\n",
    "obj.prnt()\n",
    "obj.push(3)\n",
    "obj.prnt()\n",
    "obj.pop()\n",
    "obj.prnt()\n",
    "obj.top()\n",
    "obj.prnt()\n",
    "obj.pop()\n",
    "obj.prnt()\n",
    "obj.getMin()"
   ]
  },
  {
   "cell_type": "code",
   "execution_count": 97,
   "metadata": {},
   "outputs": [],
   "source": [
    "del(obj)"
   ]
  },
  {
   "cell_type": "code",
   "execution_count": null,
   "metadata": {},
   "outputs": [],
   "source": []
  }
 ],
 "metadata": {
  "kernelspec": {
   "display_name": "Python 3",
   "language": "python",
   "name": "python3"
  },
  "language_info": {
   "codemirror_mode": {
    "name": "ipython",
    "version": 3
   },
   "file_extension": ".py",
   "mimetype": "text/x-python",
   "name": "python",
   "nbconvert_exporter": "python",
   "pygments_lexer": "ipython3",
   "version": "3.6.7"
  }
 },
 "nbformat": 4,
 "nbformat_minor": 2
}
