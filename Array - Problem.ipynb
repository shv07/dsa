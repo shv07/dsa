{
 "cells": [
  {
   "cell_type": "markdown",
   "metadata": {},
   "source": [
    "\n",
    "### Hackerearth problem from codearena\n",
    "\n",
    "Colonel Oliver and his battalion were in midst of a battle against an extraterrestrial species Zomni. \n",
    "The Colonel has to win the battle at any cost to save all of humanity. He was short of soldiers, however, \n",
    "he had a very powerful weapon bazooka which could be used only once during the war.\n",
    "\n",
    "The Zomni army was divided into small troops scattered at different locations (which can be contained in a \n",
    "N x M battle ground). The bazooka, once launched on some troop is capable of killing all the Zomnis of that \n",
    "troop at a time but cannot harm any Zomni soldier in other troops.\n",
    "\n",
    "The war is coming to an end and the Colonel is about to lose. He has only one bazooka but something he \n",
    "knows for sure is that if he is able to kill the maximum possible soldiers with this bazooka, he and his \n",
    "soldiers definitely have a chance of winning the battle.\n",
    "\n",
    "So, the Colonel seeks your help in finding out the maximum number of Zomnis he can kill in one strike of \n",
    "the bazooka and also the total number of Zomni troops gathered against them so that he can divide his \n",
    "battalion efficiently (the troop killed by the bazooka should also be included).\n",
    "\n",
    "Two Zomni soldiers belong to the same troop if they are at adjacent positions in the battle ground. Therefore, any soldier who is not at some boundary of the battle ground can have a maximum of 8 adjacent soldiers.\n",
    "\n",
    "#### INPUT:\n",
    "First line contains single integer T, the number of test cases. First line of each test case contains \n",
    "two space separated integers N and M (size of the battle ground), followed by N lines containing M \n",
    "integers 0 or 1 where 0 means an empty space and 1 means a Zomni soldier.\n",
    "\n",
    "#### OUTPUT:\n",
    "For every test case, output two space separated integers X and Y where X is the number of Zomni troops and Y is the maximum number of Zomnis that can be killed by a single strike of the bazooka.\n",
    "\n",
    "#### CONTSTRAINTS:\n",
    "1 ≤ T ≤ 10\n",
    "1 ≤ N,M ≤ 1000\n",
    "\n",
    "\n",
    "#### Sample Input\n",
    "2\n",
    "4 6\n",
    "0 0 0 1 1 0 \n",
    "1 1 0 0 0 0 \n",
    "0 1 0 0 0 0 \n",
    "0 0 1 0 0 0 \n",
    "6 4\n",
    "1 1 1 1 \n",
    "0 0 0 0 \n",
    "0 1 0 0 \n",
    "1 0 1 0 \n",
    "1 0 0 0 \n",
    "1 0 0 0 \n",
    "\n",
    "#### sample output\n",
    "2 4\n",
    "2 5\n",
    "'''"
   ]
  },
  {
   "cell_type": "markdown",
   "metadata": {},
   "source": [
    "***************************************************************************************************\n",
    "****************************************************************************************************"
   ]
  },
  {
   "cell_type": "markdown",
   "metadata": {},
   "source": [
    "## Solution Explanation \n",
    "#### Type - Arrays\n",
    "#### Time Complexity - O(mn) + 2.O(k), k - no. of troups (<mn)"
   ]
  },
  {
   "cell_type": "code",
   "execution_count": 9,
   "metadata": {},
   "outputs": [
    {
     "name": "stdout",
     "output_type": "stream",
     "text": [
      "1\n",
      "3 3\n",
      "1 0 0\n",
      "0 0 1\n",
      "0 0 1\n"
     ]
    }
   ],
   "source": [
    "\n",
    "t = int(input())\n",
    "ans = []\n",
    "\n",
    "for _ in range(t):\n",
    "    n,m = [int(i) for i in input().split()]\n",
    "    troop = []\n",
    "    for __ in range(n):\n",
    "        troop.append([i for i in input().split()])\n",
    "    \n",
    "    troup_pos = {}\n",
    "    troup_d = {}\n",
    "    \n",
    "    curr = 0\n",
    "    for i in range(n):\n",
    "        for j in range(m):\n",
    "            if troop[i][j]=='1':\n",
    "                if (i-1,j) in troup_pos:\n",
    "                    troup_pos[(i,j)] = troup_pos[(i-1,j)]\n",
    "                    troup_d[troup_pos[(i,j)]]+=1\n",
    "                    \n",
    "                elif (i,j-1) in troup_pos:\n",
    "                    troup_pos[(i,j)] = troup_pos[(i,j-1)]\n",
    "                    troup_d[troup_pos[(i,j)]]+=1\n",
    "                    \n",
    "                elif (i-1,j-1) in troup_pos:\n",
    "                    troup_pos[(i,j)] = troup_pos[(i-1,j-1)]\n",
    "                    troup_d[troup_pos[(i,j)]]+=1\n",
    "                elif (i-1,j+1) in troup_pos:\n",
    "                    troup_pos[(i,j)] = troup_pos[(i-1,j+1)]\n",
    "                    troup_d[troup_pos[(i,j)]]+=1\n",
    "                else:\n",
    "                    curr+=1\n",
    "                    troup_pos[(i,j)] = curr\n",
    "                    troup_d[curr] = 1\n",
    "    a = str(max(list(troup_d.values())))\n",
    "    b = str(len(troup_d))\n",
    "    ans.append(' '.join([b,a]))\n",
    "for i in ans:\n",
    "    print(i)\n",
    "                    "
   ]
  },
  {
   "cell_type": "code",
   "execution_count": 4,
   "metadata": {},
   "outputs": [],
   "source": [
    "a = {1:6}"
   ]
  },
  {
   "cell_type": "code",
   "execution_count": 5,
   "metadata": {},
   "outputs": [
    {
     "data": {
      "text/plain": [
       "6"
      ]
     },
     "execution_count": 5,
     "metadata": {},
     "output_type": "execute_result"
    }
   ],
   "source": [
    "max(list(a.values()))"
   ]
  },
  {
   "cell_type": "code",
   "execution_count": null,
   "metadata": {},
   "outputs": [],
   "source": []
  }
 ],
 "metadata": {
  "kernelspec": {
   "display_name": "Python 3",
   "language": "python",
   "name": "python3"
  },
  "language_info": {
   "codemirror_mode": {
    "name": "ipython",
    "version": 3
   },
   "file_extension": ".py",
   "mimetype": "text/x-python",
   "name": "python",
   "nbconvert_exporter": "python",
   "pygments_lexer": "ipython3",
   "version": "3.6.7"
  }
 },
 "nbformat": 4,
 "nbformat_minor": 2
}
