{
 "cells": [
  {
   "cell_type": "code",
   "execution_count": 7,
   "metadata": {},
   "outputs": [],
   "source": [
    "global L \n",
    "def lengthOfLIS(nums):\n",
    "    if len(nums)<2:\n",
    "        return len(nums)\n",
    "    global L\n",
    "    L = [0]*len(nums)\n",
    "    for i in range(len(nums)):\n",
    "        f(nums,i)\n",
    "    return max(L)\n",
    "def f(nums, i):\n",
    "    global L\n",
    "    if i==0:\n",
    "        L[0]=1\n",
    "    else:\n",
    "        tmp = 0\n",
    "        flag = 0\n",
    "        for j in range(i):\n",
    "            if nums[j]<nums[i]:\n",
    "                flag = 1\n",
    "                if L[j]>tmp:\n",
    "                    tmp = L[j]\n",
    "        if flag == 0:\n",
    "            L[i] = 1\n",
    "        else:\n",
    "            L[i] = 1+tmp\n",
    "\n"
   ]
  },
  {
   "cell_type": "code",
   "execution_count": 8,
   "metadata": {},
   "outputs": [
    {
     "data": {
      "text/plain": [
       "4"
      ]
     },
     "execution_count": 8,
     "metadata": {},
     "output_type": "execute_result"
    }
   ],
   "source": [
    "lengthOfLIS([5,4,3,10,2,25,0,50])"
   ]
  },
  {
   "cell_type": "code",
   "execution_count": null,
   "metadata": {},
   "outputs": [],
   "source": []
  }
 ],
 "metadata": {
  "kernelspec": {
   "display_name": "Python 3",
   "language": "python",
   "name": "python3"
  },
  "language_info": {
   "codemirror_mode": {
    "name": "ipython",
    "version": 3
   },
   "file_extension": ".py",
   "mimetype": "text/x-python",
   "name": "python",
   "nbconvert_exporter": "python",
   "pygments_lexer": "ipython3",
   "version": "3.6.7"
  }
 },
 "nbformat": 4,
 "nbformat_minor": 2
}
